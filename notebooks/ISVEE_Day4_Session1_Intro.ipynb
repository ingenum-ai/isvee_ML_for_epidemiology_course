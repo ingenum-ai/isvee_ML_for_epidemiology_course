{
  "cells": [
    {
      "cell_type": "markdown",
      "metadata": {
        "id": "view-in-github",
        "colab_type": "text"
      },
      "source": [
        "<a href=\"https://colab.research.google.com/github/ingenum-ai/isvee_ML_for_epidemiology_course/blob/main/notebooks/ISVEE_Day4_Session1_Intro.ipynb\" target=\"_parent\"><img src=\"https://colab.research.google.com/assets/colab-badge.svg\" alt=\"Open In Colab\"/></a>"
      ]
    },
    {
      "cell_type": "markdown",
      "source": [
        "<img src=\"https://raw.githubusercontent.com/ingenum-ai/isvee_ML_for_epidemiology_course/main/images/MarkdownContent_Header.png\" width=900 alt=\"a pytorch workflow flowchat\" width=900 alt=\"a pytorch workflow flowchat\"/>\n",
        "\n",
        "\n",
        "<br>\n",
        "<br>"
      ],
      "metadata": {
        "id": "dwKLiViH8Ewl"
      }
    },
    {
      "cell_type": "markdown",
      "source": [
        "\n",
        "\n",
        "#Session 1 - An introduction to Colab, Markdown and a little Python\n"
      ],
      "metadata": {
        "id": "g0eG3iI5L75w"
      }
    },
    {
      "cell_type": "markdown",
      "source": [
        "**Welcome to Day 4 of the ISVEE Machine Learning Course for Epidemiologists!**\n",
        "\n",
        "There is a lot to cover today and we need to introduce you to some (potentially) new concepts.\n",
        "\n",
        "Lets jump straight in shall we?\n",
        "\n",
        "In this first tutorial we will introduce you to this Colab notebook (essentially a Jupyter notebook) and its features. We will be working in this environment today so lets get a few things.\n",
        "\n",
        "<br>\n",
        "<br>\n",
        "\n",
        "\n",
        "\n",
        "#Where can you get help?\n",
        "All of the materials for this course are available on GitHub but if you have a question certainly put your hand up.\n",
        "\n",
        "Alternatively, try clicking on the Gemini icon in the top right and posing the question there too. Gemini is very good at answering simple questions about your code and the contents of the colab. It won't do the analysis for you though (yet...!)\n",
        "\n",
        "\n",
        "There's also the PyTorch documentation on the [PyTorch website](https://pytorch.org/) and associated developer forums, a very helpful place for all things PyTorch.\n",
        "\n",
        "<br>\n",
        "\n",
        "\n",
        "\n"
      ],
      "metadata": {
        "id": "mVXluVFOqeDp"
      }
    },
    {
      "cell_type": "markdown",
      "source": [
        "##Why Google Colab?"
      ],
      "metadata": {
        "id": "MW6x9mP0u81k"
      }
    },
    {
      "cell_type": "markdown",
      "source": [
        "\n",
        "###What is Colab?\n",
        "\n",
        "\n",
        "Google Colab, or \"Colaboratory\", is a version of a Jupyter notebook that allows you to write and execute Python in your browser, with\n",
        "- Zero configuration required\n",
        "- Access to GPUs free of charge\n",
        "- Access to Google Gemini (Googles LLM fine tuned to assist with code script)\n",
        "\n",
        "Watch [Introduction to Colab](https://www.youtube.com/watch?v=inN8seMm7UI) or [Colab Features You May Have Missed](https://www.youtube.com/watch?v=rNgswRZ2C1Y) to learn more, or step through the code chuncks below...\n",
        "\n",
        "\n"
      ],
      "metadata": {
        "id": "BwPTc4CizLD-"
      }
    },
    {
      "cell_type": "markdown",
      "metadata": {
        "id": "JyG45Qk3qQLS"
      },
      "source": [
        "# Cells\n",
        "A notebook is a list of cells. Cells contain either explanatory (Markdown) text or executable code and its output. Click a cell to select it.\n",
        "\n",
        "```\n",
        "# This is text that is formatted as code, but you can create cells of code by simply selecting a new code block as a code block\n",
        "```\n"
      ]
    },
    {
      "cell_type": "markdown",
      "metadata": {
        "id": "KR921S_OQSHG"
      },
      "source": [
        "## Code cells\n",
        "Below is a **code cell**. Once the toolbar button indicates CONNECTED, click in the cell to select it and execute the contents in the following ways:\n",
        "\n",
        "* Click the **Play icon** in the left gutter of the cell;\n",
        "* Type **Cmd/Ctrl+Enter** to run the cell in place;\n",
        "* Type **Shift+Enter** to run the cell and move focus to the next cell (adding one if none exists); or\n",
        "* Type **Alt+Enter** to run the cell and insert a new code cell immediately below it.\n",
        "\n",
        "There are additional options for running some or all cells in the **Runtime** menu.\n"
      ]
    },
    {
      "cell_type": "code",
      "execution_count": null,
      "metadata": {
        "cellView": "both",
        "colab": {
          "base_uri": "https://localhost:8080/"
        },
        "id": "WUtu4316QSHL",
        "outputId": "a577d936-a637-4484-d039-0d8a755a30fe"
      },
      "outputs": [
        {
          "output_type": "execute_result",
          "data": {
            "text/plain": [
              "10"
            ]
          },
          "metadata": {},
          "execution_count": 1
        }
      ],
      "source": [
        "a = 10\n",
        "a"
      ]
    },
    {
      "cell_type": "markdown",
      "metadata": {
        "id": "Id6tDF1HQSHD"
      },
      "source": [
        "## Text cells\n",
        "This is a **text cell**. You can **double-click** to edit this cell. Text cells\n",
        "use markdown syntax. To learn more, see our [markdown\n",
        "guide](/notebooks/markdown_guide.ipynb).\n",
        "\n",
        "You can also add math to text cells using [LaTeX](http://www.latex-project.org/)\n",
        "to be rendered by [MathJax](https://www.mathjax.org). Just place the statement\n",
        "within a pair of **\\$** signs. For example `$\\sqrt{3x-1}+(1+x)^2$` becomes\n",
        "$\\sqrt{3x-1}+(1+x)^2.$\n"
      ]
    },
    {
      "cell_type": "markdown",
      "metadata": {
        "id": "7bqjkGKwQSHW"
      },
      "source": [
        "## Adding and moving cells\n",
        "You can add new cells by using the **+ CODE** and **+ TEXT** buttons that show when you hover between cells. These buttons are also in the toolbar above the notebook where they can be used to add a cell below the currently selected cell.\n",
        "\n",
        "You can move a cell by selecting it and clicking **Cell Up** or **Cell Down** in the top toolbar.\n",
        "\n",
        "Consecutive cells can be selected by \"lasso selection\" by dragging from outside one cell and through the group.  Non-adjacent cells can be selected concurrently by clicking one and then holding down Ctrl while clicking another.  Similarly, using Shift instead of Ctrl will select all intermediate cells."
      ]
    },
    {
      "cell_type": "markdown",
      "source": [
        "## Differences between Colab Markdown and other Markdown dialects\n",
        "\n",
        "Colab uses [marked.js](https://github.com/chjj/marked) and so is similar but not quite identical to the Markdown used by Jupyter and GitHub.\n",
        "\n",
        "Colab supports (MathJax) $\\LaTeX$ equations like Jupyter, but does not allow HTML tags in the Markdown. Colab does not support some GitHub additions like emojis and to-do checkboxes.\n",
        "\n",
        "If HTML must be included in a Colab notebook, see the [%%html magic](/notebooks/basic_features_overview.ipynb#scrollTo=qM4myQGfQboQ).\n"
      ],
      "metadata": {
        "id": "eG4rv60z13i1"
      }
    },
    {
      "cell_type": "markdown",
      "metadata": {
        "id": "GOwlZRXEQSHZ"
      },
      "source": [
        "# Working with python\n",
        "Colaboratory is built on top of [Jupyter Notebook](https://jupyter.org/). Below are some examples of convenience functions provided."
      ]
    },
    {
      "cell_type": "markdown",
      "source": [
        "\n",
        "##Why Python?"
      ],
      "metadata": {
        "id": "JHjpTouPuttd"
      }
    },
    {
      "cell_type": "markdown",
      "source": [
        "\n",
        "###Python programming language\n",
        "\n",
        "Python is a programming language.\n",
        "\n",
        "Once installed on your computer it can be run in command lines, just like R.\n",
        "\n",
        "For our work it is more commonly run in a 'notebook' (i.e. Jupyter) which are interactive.\n",
        "\n",
        "This *Colab* is a form of Jupyter notebook.\n",
        "\n",
        "<br>\n",
        "\n",
        "This table summarises key differences and similarities between Python and R.\n",
        "Essentially, if you're an epidemiologist and undertaking statistical anaylsis, then R is great for you. If you are extending your role into deploying applications, deep learning and/or working with developers in other realms, then take a look at Python.\n",
        "\n",
        "|                         | **Python**                                                                                                                                                   | **R**                                                                                                                                                                 |\n",
        "|-------------------------|---------------------------------------------------------------------------------------------------------------------------------------------------------------|-----------------------------------------------------------------------------------------------------------------------------------------------------------------------|\n",
        "| **General**             | Python is a general-purpose programming language for data analysis and scientific computing.                                                                  | R is a functional programming environment and language for statistical computing and graphics.                                                                         |\n",
        "| **Objective**           | Data Science, Web Development, Embedded Systems                                                                                                               | Data Science & Statistical Modeling                                                                                                                                   |\n",
        "| **IDE**                 | iPython, Pycharm, Jupyter Notebook, Spyder                                                                                                                    | RStudio, R GUI, R KWard                                                                                                                                               |\n",
        "| **Data Collection**     | Supports CSV files, SQL, JSON, and web scraping with BeautifulSoup.                                                                                           | Can also import CSV files with built-in readr library. R's library RCurl provides a simple way to make API requests, similar to Python's requests package.           |\n",
        "| **Data Analysis**       | Organize dataframes with Pandas for filtering, sorting. Python takes a more streamlined approach for data science projects.                                  | Complex data visualization tools make the exploratory data analysis (EDA) process much more complex than Python.                                                     |\n",
        "| **Essential Packages & Libraries** | Numpy, Pandas, matplotlib, scipy, scikit-learn, TensorFlow                                                                                           | caret, stringr, ggplot2, knitr, tidyverse, markdown, shiny, forcats, haven                                                                                           |\n",
        "| **Database Handling Capacity** | Can easily handle large data because there are fewer constraints for memory usage.                                                                 | R computes everything in memory, so its capabilities are limited by RAM size. A major downfall of R is the inability to handle massive amounts of data.             |\n",
        "| **Data Visualization**  | Despite the capabilities of data visualization tools like Matplotlib and Seaborn, Python fails to measure up to data visualization features of R.             | Developed by and for statisticians, R has complex data visualization features.                                                                                       |\n",
        "| **Syntax**              | The \"zen of Python\" is that there's a proper way to write code.                                                                                               | R doesn’t have this set of rules. Also, indexing starts at 1, which can be considered unconventional for general programmers.                                       |\n",
        "| **Learning Curve**      | Simple and readable code structure makes it easier for beginners to learn. It also allows for object-oriented programming. It also offers a wide range of data structures that you wouldn’t expect from a general-purpose language. | R’s functional syntax isn’t easy for beginners, but not too challenging for those well-versed in programming. It also offers a few data structures, but fails to handle large amounts of data. |"
      ],
      "metadata": {
        "id": "fmRfbxEFtUdS"
      }
    },
    {
      "cell_type": "markdown",
      "metadata": {
        "id": "RVuqWUXPQSHa"
      },
      "source": [
        "<br>\n",
        "\n",
        "For thos interested in programming in Python, there are a weatlh of free repositories written by developers keen to share their skills.\n",
        "\n",
        "\n",
        "This [one](https://github.com/williamgrimes/teach_python_in_notebooks) by William Grimes is a great start\n",
        "\n",
        "Instead today, we shall look at the functions built into code chunks in a markdown.\n",
        "\n",
        "<br>\n",
        "<br>\n",
        "\n",
        "For a start, A code cell is run by pressing the *play* arrow on the left. It will run everything in that cell.\n",
        "\n",
        "Long running python processes can be interrupted. Run the following cell and select **Runtime -> Interrupt execution** (*hotkey: Cmd/Ctrl-M I*) to stop execution."
      ]
    },
    {
      "cell_type": "code",
      "execution_count": null,
      "metadata": {
        "cellView": "both",
        "id": "d-S-3nYLQSHb"
      },
      "outputs": [],
      "source": [
        "import time\n",
        "print(\"Sleeping\")\n",
        "time.sleep(30) # sleep for a while; interrupt me!\n",
        "print(\"Done Sleeping\")"
      ]
    },
    {
      "cell_type": "markdown",
      "metadata": {
        "id": "Wej_mEyXQSHc"
      },
      "source": [
        "## System aliases\n",
        "\n",
        "Jupyter (and Colab) includes shortcuts for common operations, such as ls:"
      ]
    },
    {
      "cell_type": "code",
      "execution_count": null,
      "metadata": {
        "cellView": "both",
        "id": "5OCYEvK5QSHf"
      },
      "outputs": [],
      "source": [
        "!ls /bin"
      ]
    },
    {
      "cell_type": "markdown",
      "metadata": {
        "id": "y8Da6JWKQSHh"
      },
      "source": [
        "That `!ls` probably generated a large output. You can select the cell and clear the output by right clicking the left gutter of the output area and selecting \"Clear output\" from the context menu.\n",
        "\n",
        "Execute any other process using `!` with string interpolation from python variables, and note the result can be assigned to a variable:"
      ]
    },
    {
      "cell_type": "code",
      "execution_count": null,
      "metadata": {
        "cellView": "both",
        "id": "zqGrv0blQSHj"
      },
      "outputs": [],
      "source": [
        "# In https://github.com/ipython/ipython/pull/10545, single quote strings are ignored\n",
        "message = 'Colaboratory is great!'\n",
        "foo = !unset message && echo -e '{message}\\n{message}\\n'$message\"\\n$message\"\n",
        "foo"
      ]
    },
    {
      "cell_type": "markdown",
      "metadata": {
        "id": "qM4myQGfQboQ"
      },
      "source": [
        "## Magics\n",
        "Colaboratory shares the notion of magics from Jupyter. There are shorthand annotations that change how a cell's text is executed. To learn more, see [Jupyter's magics page](http://nbviewer.jupyter.org/github/ipython/ipython/blob/1.x/examples/notebooks/Cell%20Magics.ipynb).\n"
      ]
    },
    {
      "cell_type": "code",
      "execution_count": null,
      "metadata": {
        "cellView": "both",
        "id": "odfM-_GxWbCy"
      },
      "outputs": [],
      "source": [
        "%%html\n",
        "<marquee style='width: 30%; color: blue;'><b>Whee!</b></marquee>"
      ]
    },
    {
      "cell_type": "code",
      "execution_count": null,
      "metadata": {
        "id": "_YrTcK7k22Fp"
      },
      "outputs": [],
      "source": [
        "%%html\n",
        "<svg xmlns=\"http://www.w3.org/2000/svg\" viewBox=\"0 0 450 400\" width=\"200\" height=\"200\">\n",
        "  <rect x=\"80\" y=\"60\" width=\"250\" height=\"250\" rx=\"20\" style=\"fill:red; stroke:black; fill-opacity:0.7\" />\n",
        "  <rect x=\"180\" y=\"110\" width=\"250\" height=\"250\" rx=\"40\" style=\"fill:blue; stroke:black; fill-opacity:0.5;\" />\n",
        "</svg>"
      ]
    },
    {
      "cell_type": "markdown",
      "metadata": {
        "id": "d4L9TOP9QSHn"
      },
      "source": [
        "## Automatic completions and exploring code\n",
        "\n",
        "Colab provides automatic completions to explore attributes of Python objects, as well as to quickly view documentation strings. As an example, first run the following cell to import the  [`numpy`](http://www.numpy.org) module."
      ]
    },
    {
      "cell_type": "markdown",
      "source": [
        "This is a new chunk\n"
      ],
      "metadata": {
        "id": "yJmAaeUnvPG2"
      }
    },
    {
      "cell_type": "code",
      "execution_count": null,
      "metadata": {
        "cellView": "both",
        "id": "Q0JKWcmtQSHp"
      },
      "outputs": [],
      "source": [
        "import numpy as np"
      ]
    },
    {
      "cell_type": "markdown",
      "metadata": {
        "id": "1M890-bXeyYp"
      },
      "source": [
        "If you now insert your cursor after `np` and press **Full Stop**(`.`), you will see the list of available completions within the `np` module. Completions can be opened again by using **Ctrl+Space**."
      ]
    },
    {
      "cell_type": "code",
      "execution_count": null,
      "metadata": {
        "cellView": "both",
        "id": "j6QRIfUHQSHq"
      },
      "outputs": [],
      "source": [
        "np"
      ]
    },
    {
      "cell_type": "markdown",
      "metadata": {
        "id": "g6MfomFhQSHs"
      },
      "source": [
        "If you type an open parenthesis **('[ ]')** after any function or class in the module, you will see a pop-up of its documentation string:"
      ]
    },
    {
      "cell_type": "code",
      "execution_count": null,
      "metadata": {
        "cellView": "both",
        "id": "SD0XnrVhQSHt"
      },
      "outputs": [],
      "source": [
        "np.ndarray"
      ]
    },
    {
      "cell_type": "markdown",
      "metadata": {
        "id": "GVIVDgdaRjPQ"
      },
      "source": [
        "The documentation can be opened again using **Ctrl+Shift+Space** or you can view the documentation for method by mouse hovering over the method name.\n",
        "\n",
        "When hovering over the method name the `Open in tab` link will open the documentation in a persistent pane. The `View source` link will navigate to the source code for the method."
      ]
    },
    {
      "cell_type": "markdown",
      "metadata": {
        "id": "7cRnhv_7N4Pa"
      },
      "source": [
        "## Rich, interactive outputs\n",
        "Until now all of the generated outputs have been text, but they can be more interesting, like the chart below."
      ]
    },
    {
      "cell_type": "markdown",
      "metadata": {
        "id": "TYTBdJXxfqiJ"
      },
      "source": [
        "## Exception Formatting"
      ]
    },
    {
      "cell_type": "markdown",
      "metadata": {
        "id": "4bqAVK-aQSHx"
      },
      "source": [
        "Exceptions are formatted nicely in Colab outputs:"
      ]
    },
    {
      "cell_type": "code",
      "execution_count": null,
      "metadata": {
        "cellView": "both",
        "id": "CrJf1PEmQSHx",
        "colab": {
          "base_uri": "https://localhost:8080/",
          "height": 180
        },
        "outputId": "a0f72d15-d891-45ff-9e38-02d2fad96282"
      },
      "outputs": [
        {
          "output_type": "error",
          "ename": "ZeroDivisionError",
          "evalue": "division by zero",
          "traceback": [
            "\u001b[0;31m---------------------------------------------------------------------------\u001b[0m",
            "\u001b[0;31mZeroDivisionError\u001b[0m                         Traceback (most recent call last)",
            "\u001b[0;32m<ipython-input-2-d93e730d8440>\u001b[0m in \u001b[0;36m<cell line: 3>\u001b[0;34m()\u001b[0m\n\u001b[1;32m      1\u001b[0m \u001b[0mx\u001b[0m \u001b[0;34m=\u001b[0m \u001b[0;36m1\u001b[0m\u001b[0;34m\u001b[0m\u001b[0;34m\u001b[0m\u001b[0m\n\u001b[1;32m      2\u001b[0m \u001b[0my\u001b[0m \u001b[0;34m=\u001b[0m \u001b[0;36m4\u001b[0m\u001b[0;34m\u001b[0m\u001b[0;34m\u001b[0m\u001b[0m\n\u001b[0;32m----> 3\u001b[0;31m \u001b[0mz\u001b[0m \u001b[0;34m=\u001b[0m \u001b[0my\u001b[0m\u001b[0;34m/\u001b[0m\u001b[0;34m(\u001b[0m\u001b[0;36m1\u001b[0m\u001b[0;34m-\u001b[0m\u001b[0mx\u001b[0m\u001b[0;34m)\u001b[0m\u001b[0;34m\u001b[0m\u001b[0;34m\u001b[0m\u001b[0m\n\u001b[0m",
            "\u001b[0;31mZeroDivisionError\u001b[0m: division by zero"
          ]
        }
      ],
      "source": [
        "x = 1\n",
        "y = 4\n",
        "z = y/(1-x)"
      ]
    },
    {
      "cell_type": "markdown",
      "source": [
        "###Google Gemini"
      ],
      "metadata": {
        "id": "1sc_JmZwjzyS"
      }
    },
    {
      "cell_type": "markdown",
      "source": [
        "The Explain Error button above leads us nicely to **Gemini**\n",
        "\n",
        "Press the **Explain Error** button above and lets see what response Gemini gives? If you wish you can continue the interrogation of your code with Gemini as you would with other generative AI.\n",
        "\n",
        "<br>\n",
        "\n",
        "You can maintain several conversations simultaneously with Gemini to resolve issues with different parts of your code. You will notice that the conversation radpidly learns the neature of your requirement as the LLM interacts with you."
      ],
      "metadata": {
        "id": "MGMnLRYPjAn-"
      }
    },
    {
      "cell_type": "markdown",
      "source": [
        "##Integration with Drive"
      ],
      "metadata": {
        "id": "9rsqM6Efj-ky"
      }
    },
    {
      "cell_type": "markdown",
      "metadata": {
        "id": "aro-UJgUQSH1"
      },
      "source": [
        "\n",
        "\n",
        "Colaboratory is integrated with Google Drive. It allows you to share, comment, and collaborate on the same document with multiple people:\n",
        "\n",
        "* The **SHARE** button (top-right of the toolbar) allows you to share the notebook and control permissions set on it.\n",
        "\n",
        "* **File->Make a Copy** creates a copy of the notebook in Drive.\n",
        "\n",
        "* **File->Save** saves the File to Drive. **File->Save and checkpoint** pins the version so it doesn't get deleted from the revision history.\n",
        "\n",
        "* **File->Revision history** shows the notebook's revision history."
      ]
    },
    {
      "cell_type": "markdown",
      "source": [
        "#More Resources"
      ],
      "metadata": {
        "id": "zpvNFRnMkG7X"
      }
    },
    {
      "cell_type": "markdown",
      "source": [
        "### Working with Notebooks in Colab\n",
        "\n",
        "</div>\n",
        "\n",
        "- [Overview of Colab](/notebooks/basic_features_overview.ipynb)\n",
        "- [Guide to Markdown](/notebooks/markdown_guide.ipynb)\n",
        "- [Importing libraries and installing dependencies](/notebooks/snippets/importing_libraries.ipynb)\n",
        "- [Saving and loading notebooks in GitHub](https://colab.research.google.com/github/googlecolab/colabtools/blob/main/notebooks/colab-github-demo.ipynb)\n",
        "- [Interactive forms](/notebooks/forms.ipynb)\n",
        "- [Interactive widgets](/notebooks/widgets.ipynb)\n",
        "\n",
        "<div class=\"markdown-google-sans\">\n",
        "\n",
        "<a name=\"working-with-data\"></a>\n",
        "### Working with Data\n",
        "</div>\n",
        "\n",
        "- [Loading data: Drive, Sheets, and Google Cloud Storage](/notebooks/io.ipynb)\n",
        "- [Charts: visualizing data](/notebooks/charts.ipynb)\n",
        "- [Getting started with BigQuery](/notebooks/bigquery.ipynb)\n",
        "\n",
        "<div class=\"markdown-google-sans\">\n",
        "\n",
        "### Machine Learning Crash Course\n",
        "\n",
        "<div>\n",
        "\n",
        "These are a few of the notebooks from Google's online Machine Learning course. See the [full course website](https://developers.google.com/machine-learning/crash-course/) for more.\n",
        "- [Intro to Pandas DataFrame](https://colab.research.google.com/github/google/eng-edu/blob/main/ml/cc/exercises/pandas_dataframe_ultraquick_tutorial.ipynb)\n",
        "- [Intro to RAPIDS cuDF to accelerate pandas](https://nvda.ws/rapids-cudf)\n",
        "- [Linear regression with tf.keras using synthetic data](https://colab.research.google.com/github/google/eng-edu/blob/main/ml/cc/exercises/linear_regression_with_synthetic_data.ipynb)\n",
        "\n",
        "<div class=\"markdown-google-sans\">\n",
        "\n",
        "<a name=\"using-accelerated-hardware\"></a>\n",
        "### Using Accelerated Hardware\n",
        "</div>\n",
        "\n",
        "- [TensorFlow with GPUs](/notebooks/gpu.ipynb)\n",
        "- [TensorFlow with TPUs](/notebooks/tpu.ipynb)\n",
        "\n"
      ],
      "metadata": {
        "id": "laZbSKJE2FLT"
      }
    },
    {
      "cell_type": "markdown",
      "source": [
        "References\n",
        "\n",
        "\n",
        "https://www.markdownguide.org/cheat-sheet/"
      ],
      "metadata": {
        "id": "jVQ9CI33oafE"
      }
    }
  ],
  "metadata": {
    "colab": {
      "provenance": [],
      "include_colab_link": true
    },
    "kernelspec": {
      "display_name": "Python 3",
      "name": "python3"
    }
  },
  "nbformat": 4,
  "nbformat_minor": 0
}