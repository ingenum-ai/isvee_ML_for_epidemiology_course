{
  "nbformat": 4,
  "nbformat_minor": 0,
  "metadata": {
    "colab": {
      "provenance": [],
      "gpuType": "T4",
      "mount_file_id": "1ubLVj1iSdGs7AgaFB06CLdTKyA_O7KcA",
      "authorship_tag": "ABX9TyPzja/dz6NbURQxjhtL3AoM",
      "include_colab_link": true
    },
    "kernelspec": {
      "name": "python3",
      "display_name": "Python 3"
    },
    "language_info": {
      "name": "python"
    },
    "accelerator": "GPU"
  },
  "cells": [
    {
      "cell_type": "markdown",
      "metadata": {
        "id": "view-in-github",
        "colab_type": "text"
      },
      "source": [
        "<a href=\"https://colab.research.google.com/github/ingenum-ai/isvee_ML_for_epidemiology_course/blob/main/Copy_of_ISVEE_Day4_Session5_VetData.ipynb\" target=\"_parent\"><img src=\"https://colab.research.google.com/assets/colab-badge.svg\" alt=\"Open In Colab\"/></a>"
      ]
    },
    {
      "cell_type": "markdown",
      "source": [
        "<img src=\"https://raw.githubusercontent.com/ingenum-ai/isvee_ML_for_epidemiology_course/main/images/MarkdownContent_Header.png\" width=900 alt=\"a pytorch workflow flowchat\" width=900 alt=\"a pytorch workflow flowchat\"/>\n",
        "\n",
        "\n",
        "<br>\n",
        "<br>"
      ],
      "metadata": {
        "id": "MTu2v9iFVpV3"
      }
    },
    {
      "cell_type": "code",
      "execution_count": null,
      "metadata": {
        "id": "HIr_3-bwP6aI"
      },
      "outputs": [],
      "source": [
        "# import libraries and insert your own API key here below:\n",
        "\n",
        "import sys\n",
        "import pandas as pd\n",
        "import requests\n",
        "import os\n",
        "os.environ[\"GROQ_API_KEY\"] = \"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\"\n",
        "!pip install groq\n",
        "\n",
        "import groq\n",
        "from groq import Groq\n"
      ]
    },
    {
      "cell_type": "code",
      "source": [
        "# Import vet data\n",
        "\n",
        "# Define the URL of the CSV file (updated)\n",
        "url = \"https://raw.githubusercontent.com/ingenum-ai/isvee_ML_for_epidemiology_course/main/data/vet_visit_obs.csv\"\n",
        "\n",
        "# Read the CSV file into a pandas DataFrame\n",
        "df1 = pd.read_csv(url)\n",
        "\n",
        "# Display the first few rows of the DataFrame to verify\n",
        "df1.head()\n"
      ],
      "metadata": {
        "id": "5NkPHQN-boWq"
      },
      "execution_count": null,
      "outputs": []
    },
    {
      "cell_type": "markdown",
      "source": [
        "Functions"
      ],
      "metadata": {
        "id": "VoppKX0ElmNl"
      }
    },
    {
      "cell_type": "code",
      "source": [
        "#Contact groc client\n",
        "\n",
        "client = Groq(\n",
        "    api_key=os.environ.get(\"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\"),\n",
        ")\n",
        "\n",
        "chat_completion = client.chat.completions.create(\n",
        "    messages=[\n",
        "        {\n",
        "            \"role\": \"user\",\n",
        "            \"content\": \"Give me brief history of the ISVEE veterinary epidemiology and economics conference\",\n",
        "        }\n",
        "    ],\n",
        "    model=\"llama3-8b-8192\",\n",
        ")\n",
        "\n",
        "print(chat_completion.choices[0].message.content)"
      ],
      "metadata": {
        "colab": {
          "base_uri": "https://localhost:8080/"
        },
        "id": "XfbLBgNhma0K",
        "outputId": "63fea352-d8ae-4d94-fafb-c2703dcead6d"
      },
      "execution_count": null,
      "outputs": [
        {
          "output_type": "stream",
          "name": "stdout",
          "text": [
            "The International Society for Veterinary Epidemiology and Economics (ISVEE) is a professional organization that brings together experts in the field of veterinary epidemiology and economics to share knowledge, advance the field, and address global animal health challenges.\n",
            "\n",
            "The history of the ISVEE conference dates back to 1983, when the first conference was held in Amsterdam, the Netherlands. The first conference was attended by 150 delegates from 16 countries and was organized by Dr. Cornelis (Kees) Frankena, a renowned veterinary epidemiologist from the Netherlands.\n",
            "\n",
            "Since then, the ISVEE conference has been held every 4-5 years in different locations around the world. The conference has grown in size and scope, with the most recent conference (ISVEE2018) attracting over 1,200 delegates from 70+ countries.\n",
            "\n",
            "Some notable milestones in the history of the ISVEE conference include:\n",
            "\n",
            "* 1987: The second conference was held in New Orleans, Louisiana, USA, and was organized by Dr. Peter A. Wilder, a prominent veterinary epidemiologist.\n",
            "* 1991: The third conference was held in Wiesbaden, Germany, and was organized by Dr. Heinz Mehlhorn, a well-known parasitologist.\n",
            "* 1995: The fourth conference was held in Izmir, Turkey, and was organized by Dr. Seniha Özmen, a Turkish veterinarian.\n",
            "* 1999: The fifth conference was held in Calgary, Alberta, Canada, and was organized by Dr. Bruce Anderson, a Canadian epidemiologist.\n",
            "* 2003: The sixth conference was held in Helsinki, Finland, and was organized by Dr. Heikki Herva, a Finnish veterinarian.\n",
            "* 2007: The seventh conference was held in Maastricht, Netherlands, and was organized by Dr. Marcel Jongman, a Dutch epidemiologist.\n",
            "* 2011: The eighth conference was held in Conception, Chile, and was organized by Dr. Alberto Panichelli, a Chilean veterinarian.\n",
            "* 2015: The ninth conference was held in Copenhagen, Denmark, and was organized by Dr. Bent Nørgaard, a Danish epidemiologist.\n",
            "* 2018: The tenth conference was held in Addis Ababa, Ethiopia, and was organized by Dr. Worku Wagnew, an Ethiopian veterinarian.\n",
            "\n",
            "Throughout its history, the ISVEE conference has focused on a range of topics related to veterinary epidemiology and economics, including disease surveillance, veterinary public health, animal welfare, and international cooperation.\n"
          ]
        }
      ]
    },
    {
      "cell_type": "code",
      "source": [
        "# Function to extract clinical signs and diseases\n",
        "def extract_clinical_info(text):\n",
        "    chat_completion = client.chat.completions.create(\n",
        "        messages=[\n",
        "            {\n",
        "                \"role\": \"user\",\n",
        "                \"content\": f\"Identify and list clinical signs and diseases in the following text, list these as comma seterated text. no commentary at all. Do not provide example data or reiterate my data. Where no clinical signs are described or no text is provided or elegible, only return NA: '{text}'\",\n",
        "            }\n",
        "        ],\n",
        "        model=\"llama3-8b-8192\",\n",
        "    )\n",
        "    return chat_completion.choices[0].message.content"
      ],
      "metadata": {
        "id": "MHqeVHoSqJoV"
      },
      "execution_count": null,
      "outputs": []
    },
    {
      "cell_type": "markdown",
      "source": [
        "Import veterinary data\n",
        "\n",
        "\n"
      ],
      "metadata": {
        "id": "a5jSCvEIYZ1E"
      }
    },
    {
      "cell_type": "code",
      "source": [
        "#Create a field that identifies and lists\n",
        "\n",
        "# Apply function to each row in the 'Hst Fld Value' column of df1_subset\n",
        "df1['clinical_info'] = df1['Hst Fld Value'].apply(extract_clinical_info)\n"
      ],
      "metadata": {
        "id": "dIpNmeMSqCbw"
      },
      "execution_count": null,
      "outputs": []
    },
    {
      "cell_type": "code",
      "source": [
        "print(df1.clinical_info)"
      ],
      "metadata": {
        "colab": {
          "base_uri": "https://localhost:8080/"
        },
        "id": "DlHg_pRi1BbN",
        "outputId": "96cbf07b-2bc4-4d15-9a03-73c85f67ae94"
      },
      "execution_count": null,
      "outputs": [
        {
          "output_type": "stream",
          "name": "stdout",
          "text": [
            "0                           lame, RF lame, LH, pink eye\n",
            "1         toe abscess, lameness, soft tissue injury, NA\n",
            "2                                                    NA\n",
            "3                                                    NA\n",
            "4                                   lame cows, mastitis\n",
            "5     Mastitis, chronic cases, overmilking, udder he...\n",
            "6                                                    NA\n",
            "7     Here is the list of clinical signs and disease...\n",
            "8     Please provide the text, and I'll extract and ...\n",
            "9                                                    NA\n",
            "10                                                   NA\n",
            "11                                                   NA\n",
            "12       Clinical signs and diseases: Masitits, Dry cow\n",
            "13                                                   NA\n",
            "14                                                   NA\n",
            "15    Dehorn, sedation, agitation, reversal, bleedin...\n",
            "16                                                   NA\n",
            "17                            Lame, joint infection, NA\n",
            "18                                                   NA\n",
            "19    Here are the clinical signs and diseases menti...\n",
            "20                                        Sick calf, NA\n",
            "21                                                   NA\n",
            "22    Please provide the text, and I'll extract the ...\n",
            "23    Please provide the text, and I'll identify and...\n",
            "24    Please provide the text, and I'll extract the ...\n",
            "25    Please provide the text, and I'll list the cli...\n",
            "26    Please provide the text from \"Gribbles Veterin...\n",
            "27                                                   NA\n",
            "28    Oedema under the jaw, pot bellied, slow rumen ...\n",
            "29    Clinical signs, diseases: fever, cough, pneumo...\n",
            "30    Please provide the text, and I'll list the cli...\n",
            "31                                                   NA\n",
            "32    Please provide the text, and I'll list the cli...\n",
            "33    Please provide the text, and I will identify a...\n",
            "34    I'm happy to help!\\n\\nBased on the text, here ...\n",
            "35                                                   NA\n",
            "36    Here is the list of clinical signs and disease...\n",
            "37                                                   NA\n",
            "38    bloated, bloat, bivatop, ketomax, engemycin, d...\n",
            "39    Clinical signs and diseases: Bloating, gut pai...\n",
            "40    peritonitis, motility issue, twist, blockage, ...\n",
            "41                                                   NA\n",
            "42                                                   NA\n",
            "43                                                   NA\n",
            "44                                                   NA\n",
            "45                     Clinical signs and diseases:, NA\n",
            "46    Please provide the text, and I'll list the cli...\n",
            "47    Please provide the text, and I will extract th...\n",
            "48    Please provide the text, and I'll help you ext...\n",
            "49    Please provide the text, and I'll identify and...\n",
            "Name: clinical_info, dtype: object\n"
          ]
        }
      ]
    }
  ]
}