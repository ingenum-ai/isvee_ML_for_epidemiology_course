{
  "nbformat": 4,
  "nbformat_minor": 0,
  "metadata": {
    "colab": {
      "provenance": [],
      "gpuType": "T4",
      "mount_file_id": "1ubLVj1iSdGs7AgaFB06CLdTKyA_O7KcA",
      "authorship_tag": "ABX9TyOgPs8lUilv/tm6r948/EMs",
      "include_colab_link": true
    },
    "kernelspec": {
      "name": "python3",
      "display_name": "Python 3"
    },
    "language_info": {
      "name": "python"
    },
    "accelerator": "GPU"
  },
  "cells": [
    {
      "cell_type": "markdown",
      "metadata": {
        "id": "view-in-github",
        "colab_type": "text"
      },
      "source": [
        "<a href=\"https://colab.research.google.com/github/ingenum-ai/isvee_ML_for_epidemiology_course/blob/main/ISVEE_Day4_Session5_VetData.ipynb\" target=\"_parent\"><img src=\"https://colab.research.google.com/assets/colab-badge.svg\" alt=\"Open In Colab\"/></a>"
      ]
    },
    {
      "cell_type": "markdown",
      "source": [],
      "metadata": {
        "id": "MTu2v9iFVpV3"
      }
    },
    {
      "cell_type": "code",
      "execution_count": null,
      "metadata": {
        "colab": {
          "base_uri": "https://localhost:8080/"
        },
        "id": "HIr_3-bwP6aI",
        "outputId": "48290ace-7f58-40c3-93bf-fe73e08c62c0"
      },
      "outputs": [
        {
          "output_type": "stream",
          "name": "stdout",
          "text": [
            "Collecting groq\n",
            "  Downloading groq-0.11.0-py3-none-any.whl.metadata (13 kB)\n",
            "Requirement already satisfied: anyio<5,>=3.5.0 in /usr/local/lib/python3.10/dist-packages (from groq) (3.7.1)\n",
            "Requirement already satisfied: distro<2,>=1.7.0 in /usr/local/lib/python3.10/dist-packages (from groq) (1.9.0)\n",
            "Requirement already satisfied: httpx<1,>=0.23.0 in /usr/local/lib/python3.10/dist-packages (from groq) (0.27.2)\n",
            "Requirement already satisfied: pydantic<3,>=1.9.0 in /usr/local/lib/python3.10/dist-packages (from groq) (2.9.2)\n",
            "Requirement already satisfied: sniffio in /usr/local/lib/python3.10/dist-packages (from groq) (1.3.1)\n",
            "Requirement already satisfied: typing-extensions<5,>=4.7 in /usr/local/lib/python3.10/dist-packages (from groq) (4.12.2)\n",
            "Requirement already satisfied: idna>=2.8 in /usr/local/lib/python3.10/dist-packages (from anyio<5,>=3.5.0->groq) (3.10)\n",
            "Requirement already satisfied: exceptiongroup in /usr/local/lib/python3.10/dist-packages (from anyio<5,>=3.5.0->groq) (1.2.2)\n",
            "Requirement already satisfied: certifi in /usr/local/lib/python3.10/dist-packages (from httpx<1,>=0.23.0->groq) (2024.8.30)\n",
            "Requirement already satisfied: httpcore==1.* in /usr/local/lib/python3.10/dist-packages (from httpx<1,>=0.23.0->groq) (1.0.6)\n",
            "Requirement already satisfied: h11<0.15,>=0.13 in /usr/local/lib/python3.10/dist-packages (from httpcore==1.*->httpx<1,>=0.23.0->groq) (0.14.0)\n",
            "Requirement already satisfied: annotated-types>=0.6.0 in /usr/local/lib/python3.10/dist-packages (from pydantic<3,>=1.9.0->groq) (0.7.0)\n",
            "Requirement already satisfied: pydantic-core==2.23.4 in /usr/local/lib/python3.10/dist-packages (from pydantic<3,>=1.9.0->groq) (2.23.4)\n",
            "Downloading groq-0.11.0-py3-none-any.whl (106 kB)\n",
            "\u001b[?25l   \u001b[90m━━━━━━━━━━━━━━━━━━━━━━━━━━━━━━━━━━━━━━━━\u001b[0m \u001b[32m0.0/106.5 kB\u001b[0m \u001b[31m?\u001b[0m eta \u001b[36m-:--:--\u001b[0m\r\u001b[2K   \u001b[90m━━━━━━━━━━━━━━━━━━━━━━━━━━━━━━━━━━━━━━━━\u001b[0m \u001b[32m106.5/106.5 kB\u001b[0m \u001b[31m9.8 MB/s\u001b[0m eta \u001b[36m0:00:00\u001b[0m\n",
            "\u001b[?25hInstalling collected packages: groq\n",
            "Successfully installed groq-0.11.0\n"
          ]
        }
      ],
      "source": [
        "# Libraries\n",
        "\n",
        "import sys\n",
        "import pandas as pd\n",
        "import requests\n",
        "import os\n",
        "os.environ[\"GROQ_API_KEY\"] = \"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\"\n",
        "!pip install groq\n",
        "\n",
        "import groq\n",
        "from groq import Groq\n"
      ]
    },
    {
      "cell_type": "code",
      "source": [
        "# Mount your own Google Drive with raw dta from Github repository\n",
        "\n",
        "from google.colab import drive\n",
        "drive.mount('/content/drive')\n",
        "\n",
        "# Import feedlot_raw.csv\n",
        "df1 = pd.read_csv('/content/drive/Shareddrives/ingenum_operations/5_Current_Projects/23_07_ISVEE_PreConf_workshop/3_Data/veterinaryCaseHistory_anon.csv',  encoding='latin-1')\n",
        "df1.head()\n",
        "\n",
        "\n",
        "#subset data to top 50 lines\n",
        "vet_visit_obs = df1.head(50)\n",
        "vet_visit_obs.to_csv('/content/drive/My Drive/vet_visit_obs.csv', index=False)\n"
      ],
      "metadata": {
        "colab": {
          "base_uri": "https://localhost:8080/"
        },
        "id": "5NkPHQN-boWq",
        "outputId": "a72a26a9-5c4b-4571-c602-5a89d87c16ce"
      },
      "execution_count": null,
      "outputs": [
        {
          "output_type": "stream",
          "name": "stdout",
          "text": [
            "Drive already mounted at /content/drive; to attempt to forcibly remount, call drive.mount(\"/content/drive\", force_remount=True).\n"
          ]
        }
      ]
    },
    {
      "cell_type": "code",
      "source": [
        "df1.head()"
      ],
      "metadata": {
        "colab": {
          "base_uri": "https://localhost:8080/",
          "height": 324
        },
        "id": "Jt8Ou_Hv47_a",
        "outputId": "ca20d7b3-3b00-480f-f3e3-d16e3008d135"
      },
      "execution_count": null,
      "outputs": [
        {
          "output_type": "execute_result",
          "data": {
            "text/plain": [
              "      Animal Name   Animal Type    Hst Date           Summary Hst Fld Name  \\\n",
              "0   Argyll Cattle  Cattle Dairy  01/03/2023                ¬       HISTORY   \n",
              "1   Argyll Cattle  Cattle Dairy  01/03/2023                ¬     CLIN_EXAM   \n",
              "2   Argyll Cattle  Cattle Dairy  01/03/2023                ¬     TREATMENT   \n",
              "3   Argyll Cattle  Cattle Dairy  01/03/2023                ¬       HISTORY   \n",
              "4  Autumn Consult  Cattle Dairy  04/04/2023  Autumn Consult¬       HISTORY   \n",
              "\n",
              "                                       Hst Fld Value  \n",
              "0  Two R2 Jersey bulls; intended to go to works t...  \n",
              "1  Sedated with 5ml 10% xylazine IM (#0777 needed...  \n",
              "2  #0564; pared under run sole¬ drained abscess¬ ...  \n",
              "3                             D Cow - Recommend cull  \n",
              "4  selective dry cow interested in using some a...  "
            ],
            "text/html": [
              "\n",
              "  <div id=\"df-a6ffd4f5-f19b-4424-8c41-9427b190b5e1\" class=\"colab-df-container\">\n",
              "    <div>\n",
              "<style scoped>\n",
              "    .dataframe tbody tr th:only-of-type {\n",
              "        vertical-align: middle;\n",
              "    }\n",
              "\n",
              "    .dataframe tbody tr th {\n",
              "        vertical-align: top;\n",
              "    }\n",
              "\n",
              "    .dataframe thead th {\n",
              "        text-align: right;\n",
              "    }\n",
              "</style>\n",
              "<table border=\"1\" class=\"dataframe\">\n",
              "  <thead>\n",
              "    <tr style=\"text-align: right;\">\n",
              "      <th></th>\n",
              "      <th>Animal Name</th>\n",
              "      <th>Animal Type</th>\n",
              "      <th>Hst Date</th>\n",
              "      <th>Summary</th>\n",
              "      <th>Hst Fld Name</th>\n",
              "      <th>Hst Fld Value</th>\n",
              "    </tr>\n",
              "  </thead>\n",
              "  <tbody>\n",
              "    <tr>\n",
              "      <th>0</th>\n",
              "      <td>Argyll Cattle</td>\n",
              "      <td>Cattle Dairy</td>\n",
              "      <td>01/03/2023</td>\n",
              "      <td>¬</td>\n",
              "      <td>HISTORY</td>\n",
              "      <td>Two R2 Jersey bulls; intended to go to works t...</td>\n",
              "    </tr>\n",
              "    <tr>\n",
              "      <th>1</th>\n",
              "      <td>Argyll Cattle</td>\n",
              "      <td>Cattle Dairy</td>\n",
              "      <td>01/03/2023</td>\n",
              "      <td>¬</td>\n",
              "      <td>CLIN_EXAM</td>\n",
              "      <td>Sedated with 5ml 10% xylazine IM (#0777 needed...</td>\n",
              "    </tr>\n",
              "    <tr>\n",
              "      <th>2</th>\n",
              "      <td>Argyll Cattle</td>\n",
              "      <td>Cattle Dairy</td>\n",
              "      <td>01/03/2023</td>\n",
              "      <td>¬</td>\n",
              "      <td>TREATMENT</td>\n",
              "      <td>#0564; pared under run sole¬ drained abscess¬ ...</td>\n",
              "    </tr>\n",
              "    <tr>\n",
              "      <th>3</th>\n",
              "      <td>Argyll Cattle</td>\n",
              "      <td>Cattle Dairy</td>\n",
              "      <td>01/03/2023</td>\n",
              "      <td>¬</td>\n",
              "      <td>HISTORY</td>\n",
              "      <td>D Cow - Recommend cull</td>\n",
              "    </tr>\n",
              "    <tr>\n",
              "      <th>4</th>\n",
              "      <td>Autumn Consult</td>\n",
              "      <td>Cattle Dairy</td>\n",
              "      <td>04/04/2023</td>\n",
              "      <td>Autumn Consult¬</td>\n",
              "      <td>HISTORY</td>\n",
              "      <td>selective dry cow interested in using some a...</td>\n",
              "    </tr>\n",
              "  </tbody>\n",
              "</table>\n",
              "</div>\n",
              "    <div class=\"colab-df-buttons\">\n",
              "\n",
              "  <div class=\"colab-df-container\">\n",
              "    <button class=\"colab-df-convert\" onclick=\"convertToInteractive('df-a6ffd4f5-f19b-4424-8c41-9427b190b5e1')\"\n",
              "            title=\"Convert this dataframe to an interactive table.\"\n",
              "            style=\"display:none;\">\n",
              "\n",
              "  <svg xmlns=\"http://www.w3.org/2000/svg\" height=\"24px\" viewBox=\"0 -960 960 960\">\n",
              "    <path d=\"M120-120v-720h720v720H120Zm60-500h600v-160H180v160Zm220 220h160v-160H400v160Zm0 220h160v-160H400v160ZM180-400h160v-160H180v160Zm440 0h160v-160H620v160ZM180-180h160v-160H180v160Zm440 0h160v-160H620v160Z\"/>\n",
              "  </svg>\n",
              "    </button>\n",
              "\n",
              "  <style>\n",
              "    .colab-df-container {\n",
              "      display:flex;\n",
              "      gap: 12px;\n",
              "    }\n",
              "\n",
              "    .colab-df-convert {\n",
              "      background-color: #E8F0FE;\n",
              "      border: none;\n",
              "      border-radius: 50%;\n",
              "      cursor: pointer;\n",
              "      display: none;\n",
              "      fill: #1967D2;\n",
              "      height: 32px;\n",
              "      padding: 0 0 0 0;\n",
              "      width: 32px;\n",
              "    }\n",
              "\n",
              "    .colab-df-convert:hover {\n",
              "      background-color: #E2EBFA;\n",
              "      box-shadow: 0px 1px 2px rgba(60, 64, 67, 0.3), 0px 1px 3px 1px rgba(60, 64, 67, 0.15);\n",
              "      fill: #174EA6;\n",
              "    }\n",
              "\n",
              "    .colab-df-buttons div {\n",
              "      margin-bottom: 4px;\n",
              "    }\n",
              "\n",
              "    [theme=dark] .colab-df-convert {\n",
              "      background-color: #3B4455;\n",
              "      fill: #D2E3FC;\n",
              "    }\n",
              "\n",
              "    [theme=dark] .colab-df-convert:hover {\n",
              "      background-color: #434B5C;\n",
              "      box-shadow: 0px 1px 3px 1px rgba(0, 0, 0, 0.15);\n",
              "      filter: drop-shadow(0px 1px 2px rgba(0, 0, 0, 0.3));\n",
              "      fill: #FFFFFF;\n",
              "    }\n",
              "  </style>\n",
              "\n",
              "    <script>\n",
              "      const buttonEl =\n",
              "        document.querySelector('#df-a6ffd4f5-f19b-4424-8c41-9427b190b5e1 button.colab-df-convert');\n",
              "      buttonEl.style.display =\n",
              "        google.colab.kernel.accessAllowed ? 'block' : 'none';\n",
              "\n",
              "      async function convertToInteractive(key) {\n",
              "        const element = document.querySelector('#df-a6ffd4f5-f19b-4424-8c41-9427b190b5e1');\n",
              "        const dataTable =\n",
              "          await google.colab.kernel.invokeFunction('convertToInteractive',\n",
              "                                                    [key], {});\n",
              "        if (!dataTable) return;\n",
              "\n",
              "        const docLinkHtml = 'Like what you see? Visit the ' +\n",
              "          '<a target=\"_blank\" href=https://colab.research.google.com/notebooks/data_table.ipynb>data table notebook</a>'\n",
              "          + ' to learn more about interactive tables.';\n",
              "        element.innerHTML = '';\n",
              "        dataTable['output_type'] = 'display_data';\n",
              "        await google.colab.output.renderOutput(dataTable, element);\n",
              "        const docLink = document.createElement('div');\n",
              "        docLink.innerHTML = docLinkHtml;\n",
              "        element.appendChild(docLink);\n",
              "      }\n",
              "    </script>\n",
              "  </div>\n",
              "\n",
              "\n",
              "<div id=\"df-69ce68e4-831b-468a-97e5-d3165bad9959\">\n",
              "  <button class=\"colab-df-quickchart\" onclick=\"quickchart('df-69ce68e4-831b-468a-97e5-d3165bad9959')\"\n",
              "            title=\"Suggest charts\"\n",
              "            style=\"display:none;\">\n",
              "\n",
              "<svg xmlns=\"http://www.w3.org/2000/svg\" height=\"24px\"viewBox=\"0 0 24 24\"\n",
              "     width=\"24px\">\n",
              "    <g>\n",
              "        <path d=\"M19 3H5c-1.1 0-2 .9-2 2v14c0 1.1.9 2 2 2h14c1.1 0 2-.9 2-2V5c0-1.1-.9-2-2-2zM9 17H7v-7h2v7zm4 0h-2V7h2v10zm4 0h-2v-4h2v4z\"/>\n",
              "    </g>\n",
              "</svg>\n",
              "  </button>\n",
              "\n",
              "<style>\n",
              "  .colab-df-quickchart {\n",
              "      --bg-color: #E8F0FE;\n",
              "      --fill-color: #1967D2;\n",
              "      --hover-bg-color: #E2EBFA;\n",
              "      --hover-fill-color: #174EA6;\n",
              "      --disabled-fill-color: #AAA;\n",
              "      --disabled-bg-color: #DDD;\n",
              "  }\n",
              "\n",
              "  [theme=dark] .colab-df-quickchart {\n",
              "      --bg-color: #3B4455;\n",
              "      --fill-color: #D2E3FC;\n",
              "      --hover-bg-color: #434B5C;\n",
              "      --hover-fill-color: #FFFFFF;\n",
              "      --disabled-bg-color: #3B4455;\n",
              "      --disabled-fill-color: #666;\n",
              "  }\n",
              "\n",
              "  .colab-df-quickchart {\n",
              "    background-color: var(--bg-color);\n",
              "    border: none;\n",
              "    border-radius: 50%;\n",
              "    cursor: pointer;\n",
              "    display: none;\n",
              "    fill: var(--fill-color);\n",
              "    height: 32px;\n",
              "    padding: 0;\n",
              "    width: 32px;\n",
              "  }\n",
              "\n",
              "  .colab-df-quickchart:hover {\n",
              "    background-color: var(--hover-bg-color);\n",
              "    box-shadow: 0 1px 2px rgba(60, 64, 67, 0.3), 0 1px 3px 1px rgba(60, 64, 67, 0.15);\n",
              "    fill: var(--button-hover-fill-color);\n",
              "  }\n",
              "\n",
              "  .colab-df-quickchart-complete:disabled,\n",
              "  .colab-df-quickchart-complete:disabled:hover {\n",
              "    background-color: var(--disabled-bg-color);\n",
              "    fill: var(--disabled-fill-color);\n",
              "    box-shadow: none;\n",
              "  }\n",
              "\n",
              "  .colab-df-spinner {\n",
              "    border: 2px solid var(--fill-color);\n",
              "    border-color: transparent;\n",
              "    border-bottom-color: var(--fill-color);\n",
              "    animation:\n",
              "      spin 1s steps(1) infinite;\n",
              "  }\n",
              "\n",
              "  @keyframes spin {\n",
              "    0% {\n",
              "      border-color: transparent;\n",
              "      border-bottom-color: var(--fill-color);\n",
              "      border-left-color: var(--fill-color);\n",
              "    }\n",
              "    20% {\n",
              "      border-color: transparent;\n",
              "      border-left-color: var(--fill-color);\n",
              "      border-top-color: var(--fill-color);\n",
              "    }\n",
              "    30% {\n",
              "      border-color: transparent;\n",
              "      border-left-color: var(--fill-color);\n",
              "      border-top-color: var(--fill-color);\n",
              "      border-right-color: var(--fill-color);\n",
              "    }\n",
              "    40% {\n",
              "      border-color: transparent;\n",
              "      border-right-color: var(--fill-color);\n",
              "      border-top-color: var(--fill-color);\n",
              "    }\n",
              "    60% {\n",
              "      border-color: transparent;\n",
              "      border-right-color: var(--fill-color);\n",
              "    }\n",
              "    80% {\n",
              "      border-color: transparent;\n",
              "      border-right-color: var(--fill-color);\n",
              "      border-bottom-color: var(--fill-color);\n",
              "    }\n",
              "    90% {\n",
              "      border-color: transparent;\n",
              "      border-bottom-color: var(--fill-color);\n",
              "    }\n",
              "  }\n",
              "</style>\n",
              "\n",
              "  <script>\n",
              "    async function quickchart(key) {\n",
              "      const quickchartButtonEl =\n",
              "        document.querySelector('#' + key + ' button');\n",
              "      quickchartButtonEl.disabled = true;  // To prevent multiple clicks.\n",
              "      quickchartButtonEl.classList.add('colab-df-spinner');\n",
              "      try {\n",
              "        const charts = await google.colab.kernel.invokeFunction(\n",
              "            'suggestCharts', [key], {});\n",
              "      } catch (error) {\n",
              "        console.error('Error during call to suggestCharts:', error);\n",
              "      }\n",
              "      quickchartButtonEl.classList.remove('colab-df-spinner');\n",
              "      quickchartButtonEl.classList.add('colab-df-quickchart-complete');\n",
              "    }\n",
              "    (() => {\n",
              "      let quickchartButtonEl =\n",
              "        document.querySelector('#df-69ce68e4-831b-468a-97e5-d3165bad9959 button');\n",
              "      quickchartButtonEl.style.display =\n",
              "        google.colab.kernel.accessAllowed ? 'block' : 'none';\n",
              "    })();\n",
              "  </script>\n",
              "</div>\n",
              "\n",
              "    </div>\n",
              "  </div>\n"
            ],
            "application/vnd.google.colaboratory.intrinsic+json": {
              "type": "dataframe",
              "variable_name": "df1",
              "summary": "{\n  \"name\": \"df1\",\n  \"rows\": 1652,\n  \"fields\": [\n    {\n      \"column\": \"Animal Name\",\n      \"properties\": {\n        \"dtype\": \"category\",\n        \"num_unique_values\": 27,\n        \"samples\": [\n          \"Cattle\",\n          \".Cattle Dairy \",\n          \".Cattle\"\n        ],\n        \"semantic_type\": \"\",\n        \"description\": \"\"\n      }\n    },\n    {\n      \"column\": \"Animal Type\",\n      \"properties\": {\n        \"dtype\": \"category\",\n        \"num_unique_values\": 1,\n        \"samples\": [\n          \"Cattle Dairy\"\n        ],\n        \"semantic_type\": \"\",\n        \"description\": \"\"\n      }\n    },\n    {\n      \"column\": \"Hst Date\",\n      \"properties\": {\n        \"dtype\": \"category\",\n        \"num_unique_values\": 82,\n        \"samples\": [\n          \"15/04/2023\"\n        ],\n        \"semantic_type\": \"\",\n        \"description\": \"\"\n      }\n    },\n    {\n      \"column\": \"Summary\",\n      \"properties\": {\n        \"dtype\": \"category\",\n        \"num_unique_values\": 98,\n        \"samples\": [\n          \"Phone Consult\\u00ac \"\n        ],\n        \"semantic_type\": \"\",\n        \"description\": \"\"\n      }\n    },\n    {\n      \"column\": \"Hst Fld Name\",\n      \"properties\": {\n        \"dtype\": \"category\",\n        \"num_unique_values\": 17,\n        \"samples\": [\n          \"HISTORY\"\n        ],\n        \"semantic_type\": \"\",\n        \"description\": \"\"\n      }\n    },\n    {\n      \"column\": \"Hst Fld Value\",\n      \"properties\": {\n        \"dtype\": \"string\",\n        \"num_unique_values\": 1018,\n        \"samples\": [\n          \"99 heifers tested - 1 mt and 3 FM \\u008d\\u008ahad tech doing copper\\u00ac selenium\\u00ac and i gave lepto.\\u008d\\u008a\\u008d\\u008a\"\n        ],\n        \"semantic_type\": \"\",\n        \"description\": \"\"\n      }\n    }\n  ]\n}"
            }
          },
          "metadata": {},
          "execution_count": 26
        }
      ]
    },
    {
      "cell_type": "markdown",
      "source": [
        "Functions"
      ],
      "metadata": {
        "id": "VoppKX0ElmNl"
      }
    },
    {
      "cell_type": "code",
      "source": [
        "#Contact groc client\n",
        "\n",
        "client = Groq(\n",
        "    api_key=os.environ.get(\"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\"),\n",
        ")\n",
        "\n",
        "chat_completion = client.chat.completions.create(\n",
        "    messages=[\n",
        "        {\n",
        "            \"role\": \"user\",\n",
        "            \"content\": \"Explain the importance of fast language models\",\n",
        "        }\n",
        "    ],\n",
        "    model=\"llama3-8b-8192\",\n",
        ")\n",
        "\n",
        "print(chat_completion.choices[0].message.content)"
      ],
      "metadata": {
        "colab": {
          "base_uri": "https://localhost:8080/"
        },
        "id": "XfbLBgNhma0K",
        "outputId": "5db82445-e5a3-40bd-8319-fcf77d24cceb"
      },
      "execution_count": null,
      "outputs": [
        {
          "output_type": "stream",
          "name": "stdout",
          "text": [
            "Fast language models, also known as efficient language models or light-weight language models, have gained significant importance in recent years due to their ability to balance the trade-off between accuracy and computational efficiency. Here are some reasons why fast language models are important:\n",
            "\n",
            "1. **Faster Inference**: Fast language models can perform inference tasks, such as language translation, text classification, and sentiments analysis, significantly faster than traditional language models. This is crucial for applications where speed and latency are critical, such as chatbots, virtual assistants, and real-time language translation.\n",
            "2. **Reduced Computational Costs**: Fast language models require fewer computational resources, such as memory and CPU power, which makes them ideal for applications where computational costs need to be minimized, such as mobile devices, embedded systems, and cloud-based services.\n",
            "3. **Scalability**: Fast language models can be easily distributed and parallelized, allowing them to scale to large volumes of data and handle high-throughput inference tasks, such as processing millions of user requests per second.\n",
            "4. **Improved Real-time Processing**: Fast language models enable real-time processing of spoken language, natural language processing (NLP), and machine learning tasks, which is essential for applications like virtual assistants, voice recognition, and sentiment analysis.\n",
            "5. **Empowering Edge Computing**: Fast language models can run efficiently on edge devices, such as smartphones, smart home devices, and autonomous vehicles, enabling decentralized processing and reducing the need for cloud-based services.\n",
            "6. **Enhanced IoT Applications**: Fast language models can be integrated with IoT devices, such as smartwatches, smart home devices, and autonomous vehicles, to enable advanced NLP capabilities, such as voice commands and language translation.\n",
            "7. **Advancements in NLP Research**: Fast language models have enabled researchers to explore new NLP domains, such as linguistic universals, machine translation, and multimodal interaction, by allowing for faster experimentation and testing.\n",
            "8. **Faster Model Development**: Fast language models can be trained faster than traditional models, enabling rapid prototyping, model selection, and grid search experiments.\n",
            "9. **Improved Model Interpretability**: Fast language models can provide insights into the model's decision-making process, enabling better understanding and explanation of the model's predictions.\n",
            "10. **Sustainability**: Fast language models can reduce energy consumption and carbon footprint by reducing the need for large-scale computing infrastructure and enabling decentralization.\n",
            "\n",
            "In summary, fast language models have the potential to revolutionize various industries and applications, including NLP, IoT, edge computing, and AI research, by enabling faster, more efficient, and more accurate processing of natural language data.\n"
          ]
        }
      ]
    },
    {
      "cell_type": "code",
      "source": [
        "# Function to extract clinical signs and diseases\n",
        "def extract_clinical_info(text):\n",
        "    chat_completion = client.chat.completions.create(\n",
        "        messages=[\n",
        "            {\n",
        "                \"role\": \"user\",\n",
        "                \"content\": f\"Identify and list clinical signs and diseases in the following text, list these as comma seterated text. no commentary at all. Do not provide example data or reiterate my data. Where no clinical signs are described, return NA: '{text}'\",\n",
        "            }\n",
        "        ],\n",
        "        model=\"llama3-8b-8192\",\n",
        "    )\n",
        "    return chat_completion.choices[0].message.content"
      ],
      "metadata": {
        "id": "MHqeVHoSqJoV"
      },
      "execution_count": null,
      "outputs": []
    },
    {
      "cell_type": "markdown",
      "source": [
        "Import veterinary data\n",
        "\n",
        "\n"
      ],
      "metadata": {
        "id": "a5jSCvEIYZ1E"
      }
    },
    {
      "cell_type": "code",
      "source": [
        "#Create a field that identifies and lists\n",
        "\n",
        "# Apply function to each row in the 'Hst Fld Value' column of df1_subset\n",
        "df1_subset['clinical_info'] = df1_subset['Hst Fld Value'].apply(extract_clinical_info)\n"
      ],
      "metadata": {
        "colab": {
          "base_uri": "https://localhost:8080/"
        },
        "id": "dIpNmeMSqCbw",
        "outputId": "2e3ec388-2825-48b2-aade-89b9bef5da6e"
      },
      "execution_count": null,
      "outputs": [
        {
          "output_type": "stream",
          "name": "stderr",
          "text": [
            "<ipython-input-24-5b0fe0ac86d4>:4: SettingWithCopyWarning: \n",
            "A value is trying to be set on a copy of a slice from a DataFrame.\n",
            "Try using .loc[row_indexer,col_indexer] = value instead\n",
            "\n",
            "See the caveats in the documentation: https://pandas.pydata.org/pandas-docs/stable/user_guide/indexing.html#returning-a-view-versus-a-copy\n",
            "  df1_subset['clinical_info'] = df1_subset['Hst Fld Value'].apply(extract_clinical_info)\n"
          ]
        }
      ]
    },
    {
      "cell_type": "code",
      "source": [
        "print(df1_subset.clinical_info)"
      ],
      "metadata": {
        "colab": {
          "base_uri": "https://localhost:8080/"
        },
        "id": "DlHg_pRi1BbN",
        "outputId": "7f1583b6-e452-4ae6-fd0c-24a7aaacdd29"
      },
      "execution_count": null,
      "outputs": [
        {
          "output_type": "stream",
          "name": "stdout",
          "text": [
            "0                                        lame, pink eye\n",
            "1             Toe abscess, lameness, soft tissue injury\n",
            "2                                   Drained abscess, Na\n",
            "3                                                    NA\n",
            "4                                    lameness, mastitis\n",
            "5                                                    NA\n",
            "6                                                    NA\n",
            "7                                                    NA\n",
            "8     Please provide the text, and I'll identify and...\n",
            "9                                                    NA\n",
            "10                                                   NA\n",
            "11                                                   NA\n",
            "12               clinical signs, diseases: mastitis, NA\n",
            "13    Here is the list of clinical signs and disease...\n",
            "14                                                   NA\n",
            "15    Dehorning, sedation, bleeding, lying down, res...\n",
            "16                                                   NA\n",
            "17                        joint infection, lameness, NA\n",
            "18                                                   NA\n",
            "19    Skinny, sudden weight loss, woody tongue, infl...\n",
            "20                                        Sick calf, NA\n",
            "21                                                   NA\n",
            "22    Please provide the text, and I'll extract the ...\n",
            "23    please provide the text, i'll list the clinica...\n",
            "24    Please provide the text, and I'll extract the ...\n",
            "25    Please provide the text, and I'll extract the ...\n",
            "26    Here is the list of clinical signs and disease...\n",
            "27                                                   NA\n",
            "28    pot bellied, oedema, losing weight, slow rumen...\n",
            "29    Bruising, ecchymosis, petechiae, cutaneous vas...\n",
            "30    Please provide the text, and I'll extract the ...\n",
            "31    Please provide the text, and I'll list the cli...\n",
            "32    Please provide the text, and I'll extract the ...\n",
            "33    Please provide the text, and I'll extract the ...\n",
            "34    NA, hyperplasia, atrophy, cysts, fibrosis, gas...\n",
            "35                                    NA, NA, + OOCYSTS\n",
            "36    Here is the list of clinical signs and disease...\n",
            "37                                                   NA\n",
            "38    Bloat, abdominal distension, grinning teeth, r...\n",
            "39    Poisoning, bloat, gut pain, peritonitis, sepsi...\n",
            "40    peritonitis, NA, SEPSIS, organ failure, toxici...\n",
            "41                                                   NA\n",
            "42                                                   NA\n",
            "43                                                   NA\n",
            "44                                                   NA\n",
            "45    Here are the clinical signs and diseases liste...\n",
            "46    Please provide the text, and I'll list the cli...\n",
            "47    Please provide the text, and I'll extract the ...\n",
            "48    Please provide the text, and I'll list the cli...\n",
            "49                             Please provide the text.\n",
            "Name: clinical_info, dtype: object\n"
          ]
        }
      ]
    }
  ]
}